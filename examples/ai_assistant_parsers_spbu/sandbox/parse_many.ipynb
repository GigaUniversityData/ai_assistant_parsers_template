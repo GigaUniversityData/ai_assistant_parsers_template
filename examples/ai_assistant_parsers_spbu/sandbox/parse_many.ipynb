{
 "cells": [
  {
   "cell_type": "code",
   "execution_count": null,
   "id": "initial_id",
   "metadata": {
    "ExecuteTime": {
     "end_time": "2024-09-19T17:34:26.314771Z",
     "start_time": "2024-09-19T17:34:11.269953Z"
    },
    "scrolled": true
   },
   "outputs": [
    {
     "name": "stdout",
     "output_type": "stream",
     "text": [
      "WWWDomainParser\n",
      "file:///home/lev145/Projects/SberAI/ai_assistant_parsers_example/sandbox/../output/parse_one/_8e69783634/result.html\n",
      "file:///home/lev145/Projects/SberAI/ai_assistant_parsers_example/sandbox/../output/parse_one/_8e69783634/result.md\n",
      "TMContentParser\n",
      "file:///home/lev145/Projects/SberAI/ai_assistant_parsers_example/sandbox/../output/parse_one/students_460df0c911/result.html\n",
      "file:///home/lev145/Projects/SberAI/ai_assistant_parsers_example/sandbox/../output/parse_one/students_460df0c911/result.md\n",
      "StudsovetDomainParser\n",
      "file:///home/lev145/Projects/SberAI/ai_assistant_parsers_example/sandbox/../output/parse_one/studsovet_c5d7660c25/result.html\n",
      "file:///home/lev145/Projects/SberAI/ai_assistant_parsers_example/sandbox/../output/parse_one/studsovet_c5d7660c25/result.md\n",
      "AbiturientMainPageParser\n",
      "file:///home/lev145/Projects/SberAI/ai_assistant_parsers_example/sandbox/../output/parse_one/abiturient_a198a48637/result.html\n",
      "file:///home/lev145/Projects/SberAI/ai_assistant_parsers_example/sandbox/../output/parse_one/abiturient_a198a48637/result.md\n",
      "TMContentParser\n",
      "file:///home/lev145/Projects/SberAI/ai_assistant_parsers_example/sandbox/../output/parse_one/nauka_95aa681916/result.html\n",
      "file:///home/lev145/Projects/SberAI/ai_assistant_parsers_example/sandbox/../output/parse_one/nauka_95aa681916/result.md\n",
      "TMContentParser\n",
      "file:///home/lev145/Projects/SberAI/ai_assistant_parsers_example/sandbox/../output/parse_one/mil_f8236fe859/result.html\n",
      "file:///home/lev145/Projects/SberAI/ai_assistant_parsers_example/sandbox/../output/parse_one/mil_f8236fe859/result.md\n",
      "TMContentParser\n",
      "file:///home/lev145/Projects/SberAI/ai_assistant_parsers_example/sandbox/../output/parse_one/ifea_2c824e1750/result.html\n",
      "file:///home/lev145/Projects/SberAI/ai_assistant_parsers_example/sandbox/../output/parse_one/ifea_2c824e1750/result.md\n",
      "TMContentParser\n",
      "file:///home/lev145/Projects/SberAI/ai_assistant_parsers_example/sandbox/../output/parse_one/guestbook_929d9bd874/result.html\n",
      "file:///home/lev145/Projects/SberAI/ai_assistant_parsers_example/sandbox/../output/parse_one/guestbook_929d9bd874/result.md\n",
      "TMContentParser\n",
      "file:///home/lev145/Projects/SberAI/ai_assistant_parsers_example/sandbox/../output/parse_one/edu_ed178d2cfa/result.html\n",
      "file:///home/lev145/Projects/SberAI/ai_assistant_parsers_example/sandbox/../output/parse_one/edu_ed178d2cfa/result.md\n",
      "CampusDomainParser\n",
      "file:///home/lev145/Projects/SberAI/ai_assistant_parsers_example/sandbox/../output/parse_one/campus_da7b2b51bc/result.html\n",
      "file:///home/lev145/Projects/SberAI/ai_assistant_parsers_example/sandbox/../output/parse_one/campus_da7b2b51bc/result.md\n",
      "TMContentParser\n",
      "file:///home/lev145/Projects/SberAI/ai_assistant_parsers_example/sandbox/../output/parse_one/library_c2b306bf35/result.html\n",
      "file:///home/lev145/Projects/SberAI/ai_assistant_parsers_example/sandbox/../output/parse_one/library_c2b306bf35/result.md\n",
      "PayDomainParser\n",
      "file:///home/lev145/Projects/SberAI/ai_assistant_parsers_example/sandbox/../output/parse_one/pay_0c54e70c60/result.html\n",
      "file:///home/lev145/Projects/SberAI/ai_assistant_parsers_example/sandbox/../output/parse_one/pay_0c54e70c60/result.md\n",
      "UniversalParser\n",
      "file:///home/lev145/Projects/SberAI/ai_assistant_parsers_example/sandbox/../output/parse_one/hortus_cf0a9ea952/result.html\n",
      "file:///home/lev145/Projects/SberAI/ai_assistant_parsers_example/sandbox/../output/parse_one/hortus_cf0a9ea952/result.md\n",
      "TMContentParser\n",
      "file:///home/lev145/Projects/SberAI/ai_assistant_parsers_example/sandbox/../output/parse_one/horizont_717080f05e/result.html\n",
      "file:///home/lev145/Projects/SberAI/ai_assistant_parsers_example/sandbox/../output/parse_one/horizont_717080f05e/result.md\n",
      "FundDomainParser\n",
      "file:///home/lev145/Projects/SberAI/ai_assistant_parsers_example/sandbox/../output/parse_one/fund_583ec62383/result.html\n",
      "file:///home/lev145/Projects/SberAI/ai_assistant_parsers_example/sandbox/../output/parse_one/fund_583ec62383/result.md\n",
      "TMContentParser\n",
      "file:///home/lev145/Projects/SberAI/ai_assistant_parsers_example/sandbox/../output/parse_one/diaghilevmuseum_735ea8032f/result.html\n",
      "file:///home/lev145/Projects/SberAI/ai_assistant_parsers_example/sandbox/../output/parse_one/diaghilevmuseum_735ea8032f/result.md\n",
      "TMContentParser\n",
      "file:///home/lev145/Projects/SberAI/ai_assistant_parsers_example/sandbox/../output/parse_one/cdop.chem_78fbe6e623/result.html\n",
      "file:///home/lev145/Projects/SberAI/ai_assistant_parsers_example/sandbox/../output/parse_one/cdop.chem_78fbe6e623/result.md\n",
      "TMContentParser\n",
      "file:///home/lev145/Projects/SberAI/ai_assistant_parsers_example/sandbox/../output/parse_one/agym_ce699a7257/result.html\n",
      "file:///home/lev145/Projects/SberAI/ai_assistant_parsers_example/sandbox/../output/parse_one/agym_ce699a7257/result.md\n",
      "UniversalParser\n",
      "file:///home/lev145/Projects/SberAI/ai_assistant_parsers_example/sandbox/../output/parse_one/300_c48edf1d40/result.html\n",
      "file:///home/lev145/Projects/SberAI/ai_assistant_parsers_example/sandbox/../output/parse_one/300_c48edf1d40/result.md\n",
      "TMContentParser\n",
      "file:///home/lev145/Projects/SberAI/ai_assistant_parsers_example/sandbox/../output/parse_one/philosophy_fa21e3dc58/result.html\n",
      "file:///home/lev145/Projects/SberAI/ai_assistant_parsers_example/sandbox/../output/parse_one/philosophy_fa21e3dc58/result.md\n",
      "TMContentParser\n",
      "file:///home/lev145/Projects/SberAI/ai_assistant_parsers_example/sandbox/../output/parse_one/apmath_91d01e58fa/result.html\n",
      "file:///home/lev145/Projects/SberAI/ai_assistant_parsers_example/sandbox/../output/parse_one/apmath_91d01e58fa/result.md\n",
      "TMContentParser\n",
      "file:///home/lev145/Projects/SberAI/ai_assistant_parsers_example/sandbox/../output/parse_one/csd_c6c0e66873/result.html\n",
      "file:///home/lev145/Projects/SberAI/ai_assistant_parsers_example/sandbox/../output/parse_one/csd_c6c0e66873/result.md\n"
     ]
    }
   ],
   "source": [
    "from pathlib import Path\n",
    "\n",
    "from ai_assistant_parsers_core.cli import parse_one\n",
    "\n",
    "\n",
    "TEST_URLS = [\n",
    "\n",
    "]\n",
    "for url in TEST_URLS:\n",
    "    await parse_one.callback(\"ai_assistant_parsers_spbu\", Path(\"../output/parse_one\"), url)"
   ]
  },
  {
   "cell_type": "code",
   "execution_count": null,
   "id": "ae780221d7f00df9",
   "metadata": {},
   "outputs": [],
   "source": []
  }
 ],
 "metadata": {
  "kernelspec": {
   "display_name": "Python 3 (ipykernel)",
   "language": "python",
   "name": "python3"
  },
  "language_info": {
   "codemirror_mode": {
    "name": "ipython",
    "version": 3
   },
   "file_extension": ".py",
   "mimetype": "text/x-python",
   "name": "python",
   "nbconvert_exporter": "python",
   "pygments_lexer": "ipython3",
   "version": "3.12.7"
  }
 },
 "nbformat": 4,
 "nbformat_minor": 5
}
