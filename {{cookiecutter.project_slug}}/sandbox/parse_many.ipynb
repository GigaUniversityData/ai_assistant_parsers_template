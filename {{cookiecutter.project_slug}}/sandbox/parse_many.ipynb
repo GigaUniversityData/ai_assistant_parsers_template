{
 "cells": [
  {
   "metadata": {
    "collapsed": true,
    "ExecuteTime": {
     "end_time": "2024-09-19T17:34:26.314771Z",
     "start_time": "2024-09-19T17:34:11.269953Z"
    }
   },
   "cell_type": "code",
   "source": [
    "from src.cli.parse_one import parse_one\n",
    "from pathlib import Path\n",
    "\n",
    "\n",
    "TEST_URL_LIST = [\n",
    "\n",
    "]\n",
    "for url in TEST_URL_LIST:\n",
    "    await parse_one(url, output_dir=Path(\"../output/parse_one\"))"
   ],
   "id": "initial_id",
   "outputs": [
    {
     "name": "stdout",
     "output_type": "stream",
     "text": [
      "WWWDomainParser\n",
      "file:///home/lev145/Projects/SberAI/ai_assistant_parsers_example/sandbox/../output/parse_one/_8e69783634/result.html\n",
      "file:///home/lev145/Projects/SberAI/ai_assistant_parsers_example/sandbox/../output/parse_one/_8e69783634/result.md\n",
      "TMContentParser\n",
      "file:///home/lev145/Projects/SberAI/ai_assistant_parsers_example/sandbox/../output/parse_one/students_460df0c911/result.html\n",
      "file:///home/lev145/Projects/SberAI/ai_assistant_parsers_example/sandbox/../output/parse_one/students_460df0c911/result.md\n",
      "StudsovetDomainParser\n",
      "file:///home/lev145/Projects/SberAI/ai_assistant_parsers_example/sandbox/../output/parse_one/studsovet_c5d7660c25/result.html\n",
      "file:///home/lev145/Projects/SberAI/ai_assistant_parsers_example/sandbox/../output/parse_one/studsovet_c5d7660c25/result.md\n",
      "AbiturientMainPageParser\n",
      "file:///home/lev145/Projects/SberAI/ai_assistant_parsers_example/sandbox/../output/parse_one/abiturient_a198a48637/result.html\n",
      "file:///home/lev145/Projects/SberAI/ai_assistant_parsers_example/sandbox/../output/parse_one/abiturient_a198a48637/result.md\n",
      "TMContentParser\n",
      "file:///home/lev145/Projects/SberAI/ai_assistant_parsers_example/sandbox/../output/parse_one/nauka_95aa681916/result.html\n",
      "file:///home/lev145/Projects/SberAI/ai_assistant_parsers_example/sandbox/../output/parse_one/nauka_95aa681916/result.md\n",
      "TMContentParser\n",
      "file:///home/lev145/Projects/SberAI/ai_assistant_parsers_example/sandbox/../output/parse_one/mil_f8236fe859/result.html\n",
      "file:///home/lev145/Projects/SberAI/ai_assistant_parsers_example/sandbox/../output/parse_one/mil_f8236fe859/result.md\n",
      "TMContentParser\n",
      "file:///home/lev145/Projects/SberAI/ai_assistant_parsers_example/sandbox/../output/parse_one/ifea_2c824e1750/result.html\n",
      "file:///home/lev145/Projects/SberAI/ai_assistant_parsers_example/sandbox/../output/parse_one/ifea_2c824e1750/result.md\n",
      "TMContentParser\n",
      "file:///home/lev145/Projects/SberAI/ai_assistant_parsers_example/sandbox/../output/parse_one/guestbook_929d9bd874/result.html\n",
      "file:///home/lev145/Projects/SberAI/ai_assistant_parsers_example/sandbox/../output/parse_one/guestbook_929d9bd874/result.md\n",
      "TMContentParser\n",
      "file:///home/lev145/Projects/SberAI/ai_assistant_parsers_example/sandbox/../output/parse_one/edu_ed178d2cfa/result.html\n",
      "file:///home/lev145/Projects/SberAI/ai_assistant_parsers_example/sandbox/../output/parse_one/edu_ed178d2cfa/result.md\n",
      "CampusDomainParser\n",
      "file:///home/lev145/Projects/SberAI/ai_assistant_parsers_example/sandbox/../output/parse_one/campus_da7b2b51bc/result.html\n",
      "file:///home/lev145/Projects/SberAI/ai_assistant_parsers_example/sandbox/../output/parse_one/campus_da7b2b51bc/result.md\n",
      "TMContentParser\n",
      "file:///home/lev145/Projects/SberAI/ai_assistant_parsers_example/sandbox/../output/parse_one/library_c2b306bf35/result.html\n",
      "file:///home/lev145/Projects/SberAI/ai_assistant_parsers_example/sandbox/../output/parse_one/library_c2b306bf35/result.md\n",
      "PayDomainParser\n",
      "file:///home/lev145/Projects/SberAI/ai_assistant_parsers_example/sandbox/../output/parse_one/pay_0c54e70c60/result.html\n",
      "file:///home/lev145/Projects/SberAI/ai_assistant_parsers_example/sandbox/../output/parse_one/pay_0c54e70c60/result.md\n",
      "UniversalParser\n",
      "file:///home/lev145/Projects/SberAI/ai_assistant_parsers_example/sandbox/../output/parse_one/hortus_cf0a9ea952/result.html\n",
      "file:///home/lev145/Projects/SberAI/ai_assistant_parsers_example/sandbox/../output/parse_one/hortus_cf0a9ea952/result.md\n",
      "TMContentParser\n",
      "file:///home/lev145/Projects/SberAI/ai_assistant_parsers_example/sandbox/../output/parse_one/horizont_717080f05e/result.html\n",
      "file:///home/lev145/Projects/SberAI/ai_assistant_parsers_example/sandbox/../output/parse_one/horizont_717080f05e/result.md\n",
      "FundDomainParser\n",
      "file:///home/lev145/Projects/SberAI/ai_assistant_parsers_example/sandbox/../output/parse_one/fund_583ec62383/result.html\n",
      "file:///home/lev145/Projects/SberAI/ai_assistant_parsers_example/sandbox/../output/parse_one/fund_583ec62383/result.md\n",
      "TMContentParser\n",
      "file:///home/lev145/Projects/SberAI/ai_assistant_parsers_example/sandbox/../output/parse_one/diaghilevmuseum_735ea8032f/result.html\n",
      "file:///home/lev145/Projects/SberAI/ai_assistant_parsers_example/sandbox/../output/parse_one/diaghilevmuseum_735ea8032f/result.md\n",
      "TMContentParser\n",
      "file:///home/lev145/Projects/SberAI/ai_assistant_parsers_example/sandbox/../output/parse_one/cdop.chem_78fbe6e623/result.html\n",
      "file:///home/lev145/Projects/SberAI/ai_assistant_parsers_example/sandbox/../output/parse_one/cdop.chem_78fbe6e623/result.md\n",
      "TMContentParser\n",
      "file:///home/lev145/Projects/SberAI/ai_assistant_parsers_example/sandbox/../output/parse_one/agym_ce699a7257/result.html\n",
      "file:///home/lev145/Projects/SberAI/ai_assistant_parsers_example/sandbox/../output/parse_one/agym_ce699a7257/result.md\n",
      "UniversalParser\n",
      "file:///home/lev145/Projects/SberAI/ai_assistant_parsers_example/sandbox/../output/parse_one/300_c48edf1d40/result.html\n",
      "file:///home/lev145/Projects/SberAI/ai_assistant_parsers_example/sandbox/../output/parse_one/300_c48edf1d40/result.md\n",
      "TMContentParser\n",
      "file:///home/lev145/Projects/SberAI/ai_assistant_parsers_example/sandbox/../output/parse_one/philosophy_fa21e3dc58/result.html\n",
      "file:///home/lev145/Projects/SberAI/ai_assistant_parsers_example/sandbox/../output/parse_one/philosophy_fa21e3dc58/result.md\n",
      "TMContentParser\n",
      "file:///home/lev145/Projects/SberAI/ai_assistant_parsers_example/sandbox/../output/parse_one/apmath_91d01e58fa/result.html\n",
      "file:///home/lev145/Projects/SberAI/ai_assistant_parsers_example/sandbox/../output/parse_one/apmath_91d01e58fa/result.md\n",
      "TMContentParser\n",
      "file:///home/lev145/Projects/SberAI/ai_assistant_parsers_example/sandbox/../output/parse_one/csd_c6c0e66873/result.html\n",
      "file:///home/lev145/Projects/SberAI/ai_assistant_parsers_example/sandbox/../output/parse_one/csd_c6c0e66873/result.md\n"
     ]
    }
   ],
   "execution_count": 3
  },
  {
   "metadata": {},
   "cell_type": "code",
   "outputs": [],
   "execution_count": null,
   "source": "",
   "id": "ae780221d7f00df9"
  }
 ],
 "metadata": {
  "kernelspec": {
   "display_name": "Python 3",
   "language": "python",
   "name": "python3"
  },
  "language_info": {
   "codemirror_mode": {
    "name": "ipython",
    "version": 2
   },
   "file_extension": ".py",
   "mimetype": "text/x-python",
   "name": "python",
   "nbconvert_exporter": "python",
   "pygments_lexer": "ipython2",
   "version": "2.7.6"
  }
 },
 "nbformat": 4,
 "nbformat_minor": 5
}
